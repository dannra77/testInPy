{
 "cells": [
  {
   "cell_type": "code",
   "execution_count": 99,
   "id": "5a328ef7",
   "metadata": {},
   "outputs": [],
   "source": [
    "import pandas as pd\n",
    "import numpy as np\n",
    "import matplotlib.pyplot as plt\n",
    "df= pd.read_csv(\"C:/Users/tecnica911/Desktop/CARO/AB_NYC_2019.csv\", sep = \",\")"
   ]
  },
  {
   "cell_type": "code",
   "execution_count": 100,
   "id": "d9018d58",
   "metadata": {},
   "outputs": [
    {
     "data": {
      "text/html": [
       "<div>\n",
       "<style scoped>\n",
       "    .dataframe tbody tr th:only-of-type {\n",
       "        vertical-align: middle;\n",
       "    }\n",
       "\n",
       "    .dataframe tbody tr th {\n",
       "        vertical-align: top;\n",
       "    }\n",
       "\n",
       "    .dataframe thead th {\n",
       "        text-align: right;\n",
       "    }\n",
       "</style>\n",
       "<table border=\"1\" class=\"dataframe\">\n",
       "  <thead>\n",
       "    <tr style=\"text-align: right;\">\n",
       "      <th></th>\n",
       "      <th>id</th>\n",
       "      <th>host_id</th>\n",
       "      <th>latitude</th>\n",
       "      <th>longitude</th>\n",
       "      <th>price</th>\n",
       "      <th>minimum_nights</th>\n",
       "      <th>number_of_reviews</th>\n",
       "      <th>reviews_per_month</th>\n",
       "      <th>calculated_host_listings_count</th>\n",
       "      <th>availability_365</th>\n",
       "      <th>neighbourhood_group_Bronx</th>\n",
       "      <th>neighbourhood_group_Brooklyn</th>\n",
       "      <th>neighbourhood_group_Manhattan</th>\n",
       "      <th>neighbourhood_group_Queens</th>\n",
       "      <th>neighbourhood_group_Staten Island</th>\n",
       "      <th>room_type_Entire home/apt</th>\n",
       "      <th>room_type_Private room</th>\n",
       "      <th>room_type_Shared room</th>\n",
       "    </tr>\n",
       "  </thead>\n",
       "  <tbody>\n",
       "    <tr>\n",
       "      <th>0</th>\n",
       "      <td>1</td>\n",
       "      <td>12345</td>\n",
       "      <td>40.7128</td>\n",
       "      <td>-74.0060</td>\n",
       "      <td>150</td>\n",
       "      <td>2</td>\n",
       "      <td>30</td>\n",
       "      <td>1.2</td>\n",
       "      <td>2</td>\n",
       "      <td>180</td>\n",
       "      <td>0</td>\n",
       "      <td>0</td>\n",
       "      <td>1</td>\n",
       "      <td>0</td>\n",
       "      <td>0</td>\n",
       "      <td>1</td>\n",
       "      <td>0</td>\n",
       "      <td>0</td>\n",
       "    </tr>\n",
       "    <tr>\n",
       "      <th>1</th>\n",
       "      <td>2</td>\n",
       "      <td>67890</td>\n",
       "      <td>40.7216</td>\n",
       "      <td>-73.9629</td>\n",
       "      <td>200</td>\n",
       "      <td>3</td>\n",
       "      <td>45</td>\n",
       "      <td>1.5</td>\n",
       "      <td>1</td>\n",
       "      <td>210</td>\n",
       "      <td>0</td>\n",
       "      <td>1</td>\n",
       "      <td>0</td>\n",
       "      <td>0</td>\n",
       "      <td>0</td>\n",
       "      <td>1</td>\n",
       "      <td>0</td>\n",
       "      <td>0</td>\n",
       "    </tr>\n",
       "    <tr>\n",
       "      <th>2</th>\n",
       "      <td>3</td>\n",
       "      <td>54321</td>\n",
       "      <td>40.8116</td>\n",
       "      <td>-73.9465</td>\n",
       "      <td>80</td>\n",
       "      <td>1</td>\n",
       "      <td>12</td>\n",
       "      <td>0.9</td>\n",
       "      <td>3</td>\n",
       "      <td>120</td>\n",
       "      <td>0</td>\n",
       "      <td>0</td>\n",
       "      <td>1</td>\n",
       "      <td>0</td>\n",
       "      <td>0</td>\n",
       "      <td>0</td>\n",
       "      <td>1</td>\n",
       "      <td>0</td>\n",
       "    </tr>\n",
       "    <tr>\n",
       "      <th>3</th>\n",
       "      <td>4</td>\n",
       "      <td>98765</td>\n",
       "      <td>40.7549</td>\n",
       "      <td>-73.9840</td>\n",
       "      <td>300</td>\n",
       "      <td>4</td>\n",
       "      <td>60</td>\n",
       "      <td>1.8</td>\n",
       "      <td>1</td>\n",
       "      <td>240</td>\n",
       "      <td>0</td>\n",
       "      <td>0</td>\n",
       "      <td>1</td>\n",
       "      <td>0</td>\n",
       "      <td>0</td>\n",
       "      <td>1</td>\n",
       "      <td>0</td>\n",
       "      <td>0</td>\n",
       "    </tr>\n",
       "    <tr>\n",
       "      <th>4</th>\n",
       "      <td>5</td>\n",
       "      <td>13579</td>\n",
       "      <td>40.7670</td>\n",
       "      <td>-73.9197</td>\n",
       "      <td>70</td>\n",
       "      <td>2</td>\n",
       "      <td>20</td>\n",
       "      <td>1.0</td>\n",
       "      <td>2</td>\n",
       "      <td>150</td>\n",
       "      <td>0</td>\n",
       "      <td>0</td>\n",
       "      <td>0</td>\n",
       "      <td>1</td>\n",
       "      <td>0</td>\n",
       "      <td>0</td>\n",
       "      <td>1</td>\n",
       "      <td>0</td>\n",
       "    </tr>\n",
       "  </tbody>\n",
       "</table>\n",
       "</div>"
      ],
      "text/plain": [
       "   id  host_id  latitude  longitude  price  minimum_nights  number_of_reviews  \\\n",
       "0   1    12345   40.7128   -74.0060    150               2                 30   \n",
       "1   2    67890   40.7216   -73.9629    200               3                 45   \n",
       "2   3    54321   40.8116   -73.9465     80               1                 12   \n",
       "3   4    98765   40.7549   -73.9840    300               4                 60   \n",
       "4   5    13579   40.7670   -73.9197     70               2                 20   \n",
       "\n",
       "   reviews_per_month  calculated_host_listings_count  availability_365  \\\n",
       "0                1.2                               2               180   \n",
       "1                1.5                               1               210   \n",
       "2                0.9                               3               120   \n",
       "3                1.8                               1               240   \n",
       "4                1.0                               2               150   \n",
       "\n",
       "   neighbourhood_group_Bronx  neighbourhood_group_Brooklyn  \\\n",
       "0                          0                             0   \n",
       "1                          0                             1   \n",
       "2                          0                             0   \n",
       "3                          0                             0   \n",
       "4                          0                             0   \n",
       "\n",
       "   neighbourhood_group_Manhattan  neighbourhood_group_Queens  \\\n",
       "0                              1                           0   \n",
       "1                              0                           0   \n",
       "2                              1                           0   \n",
       "3                              1                           0   \n",
       "4                              0                           1   \n",
       "\n",
       "   neighbourhood_group_Staten Island  room_type_Entire home/apt  \\\n",
       "0                                  0                          1   \n",
       "1                                  0                          1   \n",
       "2                                  0                          0   \n",
       "3                                  0                          1   \n",
       "4                                  0                          0   \n",
       "\n",
       "   room_type_Private room  room_type_Shared room  \n",
       "0                       0                      0  \n",
       "1                       0                      0  \n",
       "2                       1                      0  \n",
       "3                       0                      0  \n",
       "4                       1                      0  "
      ]
     },
     "execution_count": 100,
     "metadata": {},
     "output_type": "execute_result"
    }
   ],
   "source": [
    "#imprimir las primeras 5 filas\n",
    "df.head()"
   ]
  },
  {
   "cell_type": "code",
   "execution_count": 101,
   "id": "809df915",
   "metadata": {},
   "outputs": [
    {
     "data": {
      "text/html": [
       "<div>\n",
       "<style scoped>\n",
       "    .dataframe tbody tr th:only-of-type {\n",
       "        vertical-align: middle;\n",
       "    }\n",
       "\n",
       "    .dataframe tbody tr th {\n",
       "        vertical-align: top;\n",
       "    }\n",
       "\n",
       "    .dataframe thead th {\n",
       "        text-align: right;\n",
       "    }\n",
       "</style>\n",
       "<table border=\"1\" class=\"dataframe\">\n",
       "  <thead>\n",
       "    <tr style=\"text-align: right;\">\n",
       "      <th></th>\n",
       "      <th>id</th>\n",
       "      <th>host_id</th>\n",
       "      <th>latitude</th>\n",
       "      <th>longitude</th>\n",
       "      <th>price</th>\n",
       "      <th>minimum_nights</th>\n",
       "      <th>number_of_reviews</th>\n",
       "      <th>reviews_per_month</th>\n",
       "      <th>calculated_host_listings_count</th>\n",
       "      <th>availability_365</th>\n",
       "      <th>neighbourhood_group_Bronx</th>\n",
       "      <th>neighbourhood_group_Brooklyn</th>\n",
       "      <th>neighbourhood_group_Manhattan</th>\n",
       "      <th>neighbourhood_group_Queens</th>\n",
       "      <th>neighbourhood_group_Staten Island</th>\n",
       "      <th>room_type_Entire home/apt</th>\n",
       "      <th>room_type_Private room</th>\n",
       "      <th>room_type_Shared room</th>\n",
       "    </tr>\n",
       "  </thead>\n",
       "  <tbody>\n",
       "    <tr>\n",
       "      <th>21</th>\n",
       "      <td>22</td>\n",
       "      <td>56789</td>\n",
       "      <td>40.7258</td>\n",
       "      <td>-73.9849</td>\n",
       "      <td>270</td>\n",
       "      <td>2</td>\n",
       "      <td>50</td>\n",
       "      <td>1.7</td>\n",
       "      <td>1</td>\n",
       "      <td>230</td>\n",
       "      <td>0</td>\n",
       "      <td>0</td>\n",
       "      <td>1</td>\n",
       "      <td>0</td>\n",
       "      <td>0</td>\n",
       "      <td>1</td>\n",
       "      <td>0</td>\n",
       "      <td>0</td>\n",
       "    </tr>\n",
       "    <tr>\n",
       "      <th>22</th>\n",
       "      <td>23</td>\n",
       "      <td>12345</td>\n",
       "      <td>40.7598</td>\n",
       "      <td>-73.8143</td>\n",
       "      <td>75</td>\n",
       "      <td>1</td>\n",
       "      <td>17</td>\n",
       "      <td>0.7</td>\n",
       "      <td>3</td>\n",
       "      <td>130</td>\n",
       "      <td>1</td>\n",
       "      <td>0</td>\n",
       "      <td>0</td>\n",
       "      <td>0</td>\n",
       "      <td>0</td>\n",
       "      <td>0</td>\n",
       "      <td>1</td>\n",
       "      <td>0</td>\n",
       "    </tr>\n",
       "    <tr>\n",
       "      <th>23</th>\n",
       "      <td>24</td>\n",
       "      <td>67890</td>\n",
       "      <td>40.6739</td>\n",
       "      <td>-73.9442</td>\n",
       "      <td>200</td>\n",
       "      <td>2</td>\n",
       "      <td>34</td>\n",
       "      <td>1.3</td>\n",
       "      <td>2</td>\n",
       "      <td>210</td>\n",
       "      <td>0</td>\n",
       "      <td>1</td>\n",
       "      <td>0</td>\n",
       "      <td>0</td>\n",
       "      <td>0</td>\n",
       "      <td>1</td>\n",
       "      <td>0</td>\n",
       "      <td>0</td>\n",
       "    </tr>\n",
       "    <tr>\n",
       "      <th>24</th>\n",
       "      <td>25</td>\n",
       "      <td>54321</td>\n",
       "      <td>40.8087</td>\n",
       "      <td>-73.9476</td>\n",
       "      <td>90</td>\n",
       "      <td>1</td>\n",
       "      <td>8</td>\n",
       "      <td>0.6</td>\n",
       "      <td>3</td>\n",
       "      <td>80</td>\n",
       "      <td>0</td>\n",
       "      <td>0</td>\n",
       "      <td>1</td>\n",
       "      <td>0</td>\n",
       "      <td>0</td>\n",
       "      <td>0</td>\n",
       "      <td>1</td>\n",
       "      <td>0</td>\n",
       "    </tr>\n",
       "    <tr>\n",
       "      <th>25</th>\n",
       "      <td>26</td>\n",
       "      <td>98765</td>\n",
       "      <td>40.7602</td>\n",
       "      <td>-73.9833</td>\n",
       "      <td>290</td>\n",
       "      <td>3</td>\n",
       "      <td>58</td>\n",
       "      <td>2.0</td>\n",
       "      <td>1</td>\n",
       "      <td>270</td>\n",
       "      <td>0</td>\n",
       "      <td>0</td>\n",
       "      <td>1</td>\n",
       "      <td>0</td>\n",
       "      <td>0</td>\n",
       "      <td>1</td>\n",
       "      <td>0</td>\n",
       "      <td>0</td>\n",
       "    </tr>\n",
       "  </tbody>\n",
       "</table>\n",
       "</div>"
      ],
      "text/plain": [
       "    id  host_id  latitude  longitude  price  minimum_nights  \\\n",
       "21  22    56789   40.7258   -73.9849    270               2   \n",
       "22  23    12345   40.7598   -73.8143     75               1   \n",
       "23  24    67890   40.6739   -73.9442    200               2   \n",
       "24  25    54321   40.8087   -73.9476     90               1   \n",
       "25  26    98765   40.7602   -73.9833    290               3   \n",
       "\n",
       "    number_of_reviews  reviews_per_month  calculated_host_listings_count  \\\n",
       "21                 50                1.7                               1   \n",
       "22                 17                0.7                               3   \n",
       "23                 34                1.3                               2   \n",
       "24                  8                0.6                               3   \n",
       "25                 58                2.0                               1   \n",
       "\n",
       "    availability_365  neighbourhood_group_Bronx  neighbourhood_group_Brooklyn  \\\n",
       "21               230                          0                             0   \n",
       "22               130                          1                             0   \n",
       "23               210                          0                             1   \n",
       "24                80                          0                             0   \n",
       "25               270                          0                             0   \n",
       "\n",
       "    neighbourhood_group_Manhattan  neighbourhood_group_Queens  \\\n",
       "21                              1                           0   \n",
       "22                              0                           0   \n",
       "23                              0                           0   \n",
       "24                              1                           0   \n",
       "25                              1                           0   \n",
       "\n",
       "    neighbourhood_group_Staten Island  room_type_Entire home/apt  \\\n",
       "21                                  0                          1   \n",
       "22                                  0                          0   \n",
       "23                                  0                          1   \n",
       "24                                  0                          0   \n",
       "25                                  0                          1   \n",
       "\n",
       "    room_type_Private room  room_type_Shared room  \n",
       "21                       0                      0  \n",
       "22                       1                      0  \n",
       "23                       0                      0  \n",
       "24                       1                      0  \n",
       "25                       0                      0  "
      ]
     },
     "execution_count": 101,
     "metadata": {},
     "output_type": "execute_result"
    }
   ],
   "source": [
    "#imprimir las ultimas 5 filas\n",
    "df.tail() "
   ]
  },
  {
   "cell_type": "code",
   "execution_count": 102,
   "id": "aef9d997",
   "metadata": {},
   "outputs": [
    {
     "name": "stdout",
     "output_type": "stream",
     "text": [
      "(26, 18)\n"
     ]
    }
   ],
   "source": [
    "#dimensiones del dataset\n",
    "print(df.shape)"
   ]
  },
  {
   "cell_type": "code",
   "execution_count": 103,
   "id": "437a63a5",
   "metadata": {},
   "outputs": [
    {
     "data": {
      "text/plain": [
       "id                                   26\n",
       "host_id                              26\n",
       "latitude                             26\n",
       "longitude                            26\n",
       "price                                26\n",
       "minimum_nights                       26\n",
       "number_of_reviews                    26\n",
       "reviews_per_month                    26\n",
       "calculated_host_listings_count       26\n",
       "availability_365                     26\n",
       "neighbourhood_group_Bronx            26\n",
       "neighbourhood_group_Brooklyn         26\n",
       "neighbourhood_group_Manhattan        26\n",
       "neighbourhood_group_Queens           26\n",
       "neighbourhood_group_Staten Island    26\n",
       "room_type_Entire home/apt            26\n",
       "room_type_Private room               26\n",
       "room_type_Shared room                26\n",
       "dtype: int64"
      ]
     },
     "execution_count": 103,
     "metadata": {},
     "output_type": "execute_result"
    }
   ],
   "source": [
    "#Obtener la totalidad de registros por columnas-->analizar valores missing (los datos que no se poseen en el df)\n",
    "df.count()"
   ]
  },
  {
   "cell_type": "code",
   "execution_count": 135,
   "id": "abddc6cc",
   "metadata": {},
   "outputs": [
    {
     "name": "stdout",
     "output_type": "stream",
     "text": [
      "<class 'pandas.core.frame.DataFrame'>\n",
      "RangeIndex: 26 entries, 0 to 25\n",
      "Data columns (total 18 columns):\n",
      " #   Column                             Non-Null Count  Dtype  \n",
      "---  ------                             --------------  -----  \n",
      " 0   id                                 26 non-null     int64  \n",
      " 1   host_id                            26 non-null     int64  \n",
      " 2   latitude                           26 non-null     float64\n",
      " 3   longitude                          26 non-null     float64\n",
      " 4   price                              26 non-null     int64  \n",
      " 5   minimum_nights                     26 non-null     int64  \n",
      " 6   number_of_reviews                  26 non-null     int64  \n",
      " 7   reviews_per_month                  26 non-null     float64\n",
      " 8   calculated_host_listings_count     26 non-null     int64  \n",
      " 9   availability_365                   26 non-null     int64  \n",
      " 10  neighbourhood_group_Bronx          26 non-null     int64  \n",
      " 11  neighbourhood_group_Brooklyn       26 non-null     int64  \n",
      " 12  neighbourhood_group_Manhattan      26 non-null     int64  \n",
      " 13  neighbourhood_group_Queens         26 non-null     int64  \n",
      " 14  neighbourhood_group_Staten Island  26 non-null     int64  \n",
      " 15  room_type_Entire home/apt          26 non-null     int64  \n",
      " 16  room_type_Private room             26 non-null     int64  \n",
      " 17  room_type_Shared room              26 non-null     int64  \n",
      "dtypes: float64(3), int64(15)\n",
      "memory usage: 3.8 KB\n"
     ]
    }
   ],
   "source": [
    "#info\n",
    "df.info()"
   ]
  },
  {
   "cell_type": "code",
   "execution_count": 104,
   "id": "6eb0e326",
   "metadata": {
    "scrolled": true
   },
   "outputs": [
    {
     "data": {
      "text/plain": [
       "id                                     int64\n",
       "host_id                                int64\n",
       "latitude                             float64\n",
       "longitude                            float64\n",
       "price                                  int64\n",
       "minimum_nights                         int64\n",
       "number_of_reviews                      int64\n",
       "reviews_per_month                    float64\n",
       "calculated_host_listings_count         int64\n",
       "availability_365                       int64\n",
       "neighbourhood_group_Bronx              int64\n",
       "neighbourhood_group_Brooklyn           int64\n",
       "neighbourhood_group_Manhattan          int64\n",
       "neighbourhood_group_Queens             int64\n",
       "neighbourhood_group_Staten Island      int64\n",
       "room_type_Entire home/apt              int64\n",
       "room_type_Private room                 int64\n",
       "room_type_Shared room                  int64\n",
       "dtype: object"
      ]
     },
     "execution_count": 104,
     "metadata": {},
     "output_type": "execute_result"
    }
   ],
   "source": [
    "df.dtypes #verificar el tipo de datos"
   ]
  },
  {
   "cell_type": "code",
   "execution_count": 105,
   "id": "55724d3b",
   "metadata": {},
   "outputs": [
    {
     "data": {
      "text/plain": [
       "pandas.core.frame.DataFrame"
      ]
     },
     "execution_count": 105,
     "metadata": {},
     "output_type": "execute_result"
    }
   ],
   "source": [
    "#verificar la estructura del dataset\n",
    "type(df)"
   ]
  },
  {
   "cell_type": "code",
   "execution_count": 106,
   "id": "c3a61bb9",
   "metadata": {},
   "outputs": [
    {
     "name": "stdout",
     "output_type": "stream",
     "text": [
      "Index(['id', 'host_id', 'latitude', 'longitude', 'price', 'minimum_nights',\n",
      "       'number_of_reviews', 'reviews_per_month',\n",
      "       'calculated_host_listings_count', 'availability_365',\n",
      "       'neighbourhood_group_Bronx', 'neighbourhood_group_Brooklyn',\n",
      "       'neighbourhood_group_Manhattan', 'neighbourhood_group_Queens',\n",
      "       'neighbourhood_group_Staten Island', 'room_type_Entire home/apt',\n",
      "       'room_type_Private room', 'room_type_Shared room'],\n",
      "      dtype='object')\n"
     ]
    }
   ],
   "source": [
    "#Listar los nombres de las columnas del dataset\n",
    "print(df.columns)"
   ]
  },
  {
   "cell_type": "code",
   "execution_count": null,
   "id": "60b059d5",
   "metadata": {},
   "outputs": [],
   "source": [
    "#completar valores missing\n",
    "#df.fillna({'columna a completar': 0}, inplace = True)"
   ]
  },
  {
   "cell_type": "code",
   "execution_count": null,
   "id": "99a66ccb",
   "metadata": {},
   "outputs": [],
   "source": [
    "#para filtrar datos\n",
    "#df[df['price']<100]"
   ]
  },
  {
   "cell_type": "code",
   "execution_count": null,
   "id": "8f7fa6d8",
   "metadata": {},
   "outputs": [],
   "source": [
    "#Listado de los 10 alojamientos con mayor cantidad de review o mas visitados\n",
    "#df.nlargest(10, 'number_of_reviews')"
   ]
  },
  {
   "cell_type": "code",
   "execution_count": null,
   "id": "f1599a5f",
   "metadata": {},
   "outputs": [],
   "source": [
    "#10 mejores datos segun frecuencia de aparicion\n",
    "#df['neighbourhood o datos a solicitar de columna'.value_counts().head(10)]"
   ]
  },
  {
   "cell_type": "code",
   "execution_count": 148,
   "id": "de236477",
   "metadata": {},
   "outputs": [],
   "source": [
    "#x=todas las variables que no sean mi target, y= es el target\n",
    "X= df.drop(\"price\", axis=1) #drop se utiliza para eliminar datos de una columna, axis es por donde lo hace. inplace = True sirve para sobreescribir el objeto\n",
    "y=df.price"
   ]
  },
  {
   "cell_type": "code",
   "execution_count": 149,
   "id": "fa3b6863",
   "metadata": {},
   "outputs": [],
   "source": [
    "from sklearn.model_selection import train_test_split\n",
    "X_train, X_test, y_train, y_test = train_test_split(X, y, test_size=0.30, random_state=42)"
   ]
  },
  {
   "cell_type": "code",
   "execution_count": 150,
   "id": "58bee307",
   "metadata": {},
   "outputs": [],
   "source": [
    "from sklearn.tree import DecisionTreeClassifier\n",
    "tree= DecisionTreeClassifier(max_depth=2, random_state=42) #max_depth es el nivel de profundidad. La semilla es la reproducibilidad, para que de el mismo resultado"
   ]
  },
  {
   "cell_type": "code",
   "execution_count": 151,
   "id": "23a5998d",
   "metadata": {},
   "outputs": [
    {
     "data": {
      "text/html": [
       "<style>#sk-container-id-3 {color: black;}#sk-container-id-3 pre{padding: 0;}#sk-container-id-3 div.sk-toggleable {background-color: white;}#sk-container-id-3 label.sk-toggleable__label {cursor: pointer;display: block;width: 100%;margin-bottom: 0;padding: 0.3em;box-sizing: border-box;text-align: center;}#sk-container-id-3 label.sk-toggleable__label-arrow:before {content: \"▸\";float: left;margin-right: 0.25em;color: #696969;}#sk-container-id-3 label.sk-toggleable__label-arrow:hover:before {color: black;}#sk-container-id-3 div.sk-estimator:hover label.sk-toggleable__label-arrow:before {color: black;}#sk-container-id-3 div.sk-toggleable__content {max-height: 0;max-width: 0;overflow: hidden;text-align: left;background-color: #f0f8ff;}#sk-container-id-3 div.sk-toggleable__content pre {margin: 0.2em;color: black;border-radius: 0.25em;background-color: #f0f8ff;}#sk-container-id-3 input.sk-toggleable__control:checked~div.sk-toggleable__content {max-height: 200px;max-width: 100%;overflow: auto;}#sk-container-id-3 input.sk-toggleable__control:checked~label.sk-toggleable__label-arrow:before {content: \"▾\";}#sk-container-id-3 div.sk-estimator input.sk-toggleable__control:checked~label.sk-toggleable__label {background-color: #d4ebff;}#sk-container-id-3 div.sk-label input.sk-toggleable__control:checked~label.sk-toggleable__label {background-color: #d4ebff;}#sk-container-id-3 input.sk-hidden--visually {border: 0;clip: rect(1px 1px 1px 1px);clip: rect(1px, 1px, 1px, 1px);height: 1px;margin: -1px;overflow: hidden;padding: 0;position: absolute;width: 1px;}#sk-container-id-3 div.sk-estimator {font-family: monospace;background-color: #f0f8ff;border: 1px dotted black;border-radius: 0.25em;box-sizing: border-box;margin-bottom: 0.5em;}#sk-container-id-3 div.sk-estimator:hover {background-color: #d4ebff;}#sk-container-id-3 div.sk-parallel-item::after {content: \"\";width: 100%;border-bottom: 1px solid gray;flex-grow: 1;}#sk-container-id-3 div.sk-label:hover label.sk-toggleable__label {background-color: #d4ebff;}#sk-container-id-3 div.sk-serial::before {content: \"\";position: absolute;border-left: 1px solid gray;box-sizing: border-box;top: 0;bottom: 0;left: 50%;z-index: 0;}#sk-container-id-3 div.sk-serial {display: flex;flex-direction: column;align-items: center;background-color: white;padding-right: 0.2em;padding-left: 0.2em;position: relative;}#sk-container-id-3 div.sk-item {position: relative;z-index: 1;}#sk-container-id-3 div.sk-parallel {display: flex;align-items: stretch;justify-content: center;background-color: white;position: relative;}#sk-container-id-3 div.sk-item::before, #sk-container-id-3 div.sk-parallel-item::before {content: \"\";position: absolute;border-left: 1px solid gray;box-sizing: border-box;top: 0;bottom: 0;left: 50%;z-index: -1;}#sk-container-id-3 div.sk-parallel-item {display: flex;flex-direction: column;z-index: 1;position: relative;background-color: white;}#sk-container-id-3 div.sk-parallel-item:first-child::after {align-self: flex-end;width: 50%;}#sk-container-id-3 div.sk-parallel-item:last-child::after {align-self: flex-start;width: 50%;}#sk-container-id-3 div.sk-parallel-item:only-child::after {width: 0;}#sk-container-id-3 div.sk-dashed-wrapped {border: 1px dashed gray;margin: 0 0.4em 0.5em 0.4em;box-sizing: border-box;padding-bottom: 0.4em;background-color: white;}#sk-container-id-3 div.sk-label label {font-family: monospace;font-weight: bold;display: inline-block;line-height: 1.2em;}#sk-container-id-3 div.sk-label-container {text-align: center;}#sk-container-id-3 div.sk-container {/* jupyter's `normalize.less` sets `[hidden] { display: none; }` but bootstrap.min.css set `[hidden] { display: none !important; }` so we also need the `!important` here to be able to override the default hidden behavior on the sphinx rendered scikit-learn.org. See: https://github.com/scikit-learn/scikit-learn/issues/21755 */display: inline-block !important;position: relative;}#sk-container-id-3 div.sk-text-repr-fallback {display: none;}</style><div id=\"sk-container-id-3\" class=\"sk-top-container\"><div class=\"sk-text-repr-fallback\"><pre>DecisionTreeClassifier(max_depth=2, random_state=42)</pre><b>In a Jupyter environment, please rerun this cell to show the HTML representation or trust the notebook. <br />On GitHub, the HTML representation is unable to render, please try loading this page with nbviewer.org.</b></div><div class=\"sk-container\" hidden><div class=\"sk-item\"><div class=\"sk-estimator sk-toggleable\"><input class=\"sk-toggleable__control sk-hidden--visually\" id=\"sk-estimator-id-3\" type=\"checkbox\" checked><label for=\"sk-estimator-id-3\" class=\"sk-toggleable__label sk-toggleable__label-arrow\">DecisionTreeClassifier</label><div class=\"sk-toggleable__content\"><pre>DecisionTreeClassifier(max_depth=2, random_state=42)</pre></div></div></div></div></div>"
      ],
      "text/plain": [
       "DecisionTreeClassifier(max_depth=2, random_state=42)"
      ]
     },
     "execution_count": 151,
     "metadata": {},
     "output_type": "execute_result"
    }
   ],
   "source": [
    "tree.fit(X_train, y_train) #Entrenar el modelo"
   ]
  },
  {
   "cell_type": "code",
   "execution_count": 152,
   "id": "d60bbb9d",
   "metadata": {},
   "outputs": [],
   "source": [
    "y_train_pred = tree.predict(X_train) #prediccion en train\n",
    "y_test_pred = tree.predict(X_test) #prediccion en test. Esto se realiza para saber si predicen parecidos los dos."
   ]
  },
  {
   "cell_type": "code",
   "execution_count": 153,
   "id": "de7c5a6d",
   "metadata": {},
   "outputs": [
    {
     "name": "stdout",
     "output_type": "stream",
     "text": [
      "% de aciertos sobre el set de entrenamiento: 0.2777777777777778\n",
      "% de acietos sobre el set de evaluacion: 0.0\n"
     ]
    }
   ],
   "source": [
    "from sklearn.metrics import accuracy_score #medir la bondad de un modelo\n",
    "train_accuracy = accuracy_score(y_train, y_train_pred)\n",
    "test_accuracy = accuracy_score(y_test, y_test_pred)\n",
    "print('% de aciertos sobre el set de entrenamiento:', train_accuracy)\n",
    "print('% de acietos sobre el set de evaluacion:', test_accuracy)"
   ]
  },
  {
   "cell_type": "code",
   "execution_count": 154,
   "id": "7c3523e4",
   "metadata": {},
   "outputs": [
    {
     "data": {
      "image/png": "[encoded data removed]",
      "text/plain": [
       "<Figure size 640x480 with 1 Axes>"
      ]
     },
     "metadata": {},
     "output_type": "display_data"
    }
   ],
   "source": [
    "import seaborn as sns\n",
    "import matplotlib.pyplot as plt\n",
    "\n",
    "# Suponiendo que ya has definido 'importances' y 'columns'\n",
    "\n",
    "# Crea un gráfico de barras\n",
    "sns.barplot(x=columns, y=importances)\n",
    "plt.title('Importancias')\n",
    "plt.xticks(rotation=90)  # Rota las etiquetas del eje x en 90 grados para una mejor legibilidad si es necesario\n",
    "plt.show()\n",
    "\n",
    "#import seaborn as sns\n",
    "#importances = tree.feature_importances_\n",
    "#columns = X.columns\n",
    "#sns.barplot(columns, importances)\n",
    "#plt.title('importancias')\n",
    "#plt.show()"
   ]
  }
 ],
 "metadata": {
  "kernelspec": {
   "display_name": "Python 3 (ipykernel)",
   "language": "python",
   "name": "python3"
  },
  "language_info": {
   "codemirror_mode": {
    "name": "ipython",
    "version": 3
   },
   "file_extension": ".py",
   "mimetype": "text/x-python",
   "name": "python",
   "nbconvert_exporter": "python",
   "pygments_lexer": "ipython3",
   "version": "3.11.4"
  }
 },
 "nbformat": 4,
 "nbformat_minor": 5
}
